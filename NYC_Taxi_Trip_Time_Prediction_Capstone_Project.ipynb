{
  "nbformat": 4,
  "nbformat_minor": 0,
  "metadata": {
    "colab": {
      "private_outputs": true,
      "provenance": [],
      "collapsed_sections": [
        "vncDsAP0Gaoa",
        "FJNUwmbgGyua",
        "w6K7xa23Elo4",
        "yQaldy8SH6Dl",
        "mDgbUHAGgjLW",
        "O_i_v8NEhb9l",
        "HhfV-JJviCcP",
        "Y3lxredqlCYt",
        "3RnN4peoiCZX",
        "x71ZqKXriCWQ",
        "7hBIi_osiCS2",
        "JlHwYmJAmNHm",
        "35m5QtbWiB9F",
        "PoPl-ycgm1ru",
        "H0kj-8xxnORC",
        "nA9Y7ga8ng1Z",
        "PBTbrJXOngz2",
        "u3PMJOP6ngxN",
        "dauF4eBmngu3",
        "bKJF3rekwFvQ",
        "MSa1f5Uengrz",
        "GF8Ens_Soomf",
        "0wOQAZs5pc--",
        "K5QZ13OEpz2H",
        "lQ7QKXXCp7Bj",
        "448CDAPjqfQr",
        "KSlN3yHqYklG",
        "t6dVpIINYklI",
        "ijmpgYnKYklI",
        "-JiQyfWJYklI",
        "EM7whBJCYoAo",
        "fge-S5ZAYoAp",
        "85gYPyotYoAp",
        "RoGjAbkUYoAp",
        "4Of9eVA-YrdM",
        "iky9q4vBYrdO",
        "F6T5p64dYrdO",
        "y-Ehk30pYrdP",
        "bamQiAODYuh1",
        "QHF8YVU7Yuh3",
        "GwzvFGzlYuh3",
        "qYpmQ266Yuh3",
        "OH-pJp9IphqM",
        "bbFf2-_FphqN",
        "_ouA3fa0phqN",
        "Seke61FWphqN",
        "PIIx-8_IphqN",
        "t27r6nlMphqO",
        "r2jJGEOYphqO",
        "b0JNsNcRphqO",
        "BZR9WyysphqO",
        "jj7wYXLtphqO",
        "eZrbJ2SmphqO",
        "rFu4xreNphqO",
        "YJ55k-q6phqO",
        "gCFgpxoyphqP",
        "OVtJsKN_phqQ",
        "lssrdh5qphqQ",
        "U2RJ9gkRphqQ",
        "1M8mcRywphqQ",
        "tgIPom80phqQ",
        "JMzcOPDDphqR",
        "x-EpHcCOp1ci",
        "X_VqEhTip1ck",
        "8zGJKyg5p1ck",
        "PVzmfK_Ep1ck",
        "n3dbpmDWp1ck",
        "ylSl6qgtp1ck",
        "ZWILFDl5p1ck",
        "M7G43BXep1ck",
        "Ag9LCva-p1cl",
        "E6MkPsBcp1cl",
        "2cELzS2fp1cl",
        "3MPXvC8up1cl",
        "NC_X3p0fY2L0",
        "UV0SzAkaZNRQ",
        "YPEH6qLeZNRQ",
        "q29F0dvdveiT",
        "EXh0U9oCveiU",
        "22aHeOlLveiV",
        "g-ATYxFrGrvw",
        "Yfr_Vlr8HBkt",
        "8yEUt7NnHlrM",
        "tEA2Xm5dHt1r",
        "I79__PHVH19G",
        "Ou-I18pAyIpj",
        "fF3858GYyt-u",
        "4_0_7-oCpUZd",
        "hwyV_J3ipUZe",
        "3yB-zSqbpUZe",
        "dEUvejAfpUZe",
        "Fd15vwWVpUZf",
        "bn_IUdTipZyH",
        "49K5P_iCpZyH",
        "Nff-vKELpZyI",
        "kLW572S8pZyI",
        "dWbDXHzopZyI",
        "yLjJCtPM0KBk",
        "xiyOF9F70UgQ",
        "7wuGOrhz0itI",
        "id1riN9m0vUs",
        "578E2V7j08f6",
        "89xtkJwZ18nB",
        "67NQN5KX2AMe",
        "Iwf50b-R2tYG",
        "GMQiZwjn3iu7",
        "WVIkgGqN3qsr",
        "XkPnILGE3zoT",
        "Hlsf0x5436Go",
        "mT9DMSJo4nBL",
        "c49ITxTc407N",
        "OeJFEK0N496M",
        "9ExmJH0g5HBk",
        "cJNqERVU536h",
        "k5UmGsbsOxih",
        "T0VqWOYE6DLQ",
        "qBMux9mC6MCf",
        "-oLEiFgy-5Pf",
        "C74aWNz2AliB",
        "2DejudWSA-a0",
        "pEMng2IbBLp7",
        "rAdphbQ9Bhjc",
        "TNVZ9zx19K6k",
        "nqoHp30x9hH9",
        "rMDnDkt2B6du",
        "yiiVWRdJDDil",
        "1UUpS68QDMuG",
        "kexQrXU-DjzY",
        "T5CmagL3EC8N",
        "BhH2vgX9EjGr",
        "qjKvONjwE8ra",
        "P1XJ9OREExlT",
        "VFOzZv6IFROw",
        "TIqpNgepFxVj",
        "VfCC591jGiD4",
        "OB4l2ZhMeS1U",
        "ArJBuiUVfxKd",
        "4qY1EAkEfxKe",
        "PiV4Ypx8fxKe",
        "TfvqoZmBfxKf",
        "dJ2tPlVmpsJ0",
        "JWYfwnehpsJ1",
        "-jK_YjpMpsJ2",
        "HAih1iBOpsJ2",
        "zVGeBEFhpsJ2",
        "bmKjuQ-FpsJ3",
        "Fze-IPXLpx6K",
        "7AN1z2sKpx6M",
        "9PIHJqyupx6M",
        "_-qAgymDpx6N",
        "Z-hykwinpx6N",
        "h_CCil-SKHpo",
        "cBFFvTBNJzUa",
        "HvGl1hHyA_VK",
        "EyNgTHvd2WFk",
        "KH5McJBi2d8v",
        "iW_Lq9qf2h6X",
        "-Kee-DAl2viO",
        "gCX9965dhzqZ",
        "gIfDvo9L0UH2"
      ],
      "include_colab_link": true
    },
    "kernelspec": {
      "name": "python3",
      "display_name": "Python 3"
    },
    "language_info": {
      "name": "python"
    }
  },
  "cells": [
    {
      "cell_type": "markdown",
      "metadata": {
        "id": "view-in-github",
        "colab_type": "text"
      },
      "source": [
        "<a href=\"https://colab.research.google.com/github/ANUJGAUR/NYC-Taxi-Trip-Time-Prediction---Capstone-Project/blob/main/NYC_Taxi_Trip_Time_Prediction_Capstone_Project.ipynb\" target=\"_parent\"><img src=\"https://colab.research.google.com/assets/colab-badge.svg\" alt=\"Open In Colab\"/></a>"
      ]
    },
    {
      "cell_type": "markdown",
      "source": [
        "# **Project Name**    - \n",
        "\n"
      ],
      "metadata": {
        "id": "vncDsAP0Gaoa"
      }
    },
    {
      "cell_type": "markdown",
      "source": [
        "\n",
        "\n",
        "\n",
        "\n",
        "##### **Project Type**    - Regression\n",
        "##### **Contribution**    - Team\n",
        "##### **Team Member 1 - Arunkumar Gond**\n",
        "##### **Team Member 2 - Anuj Kumar Gaur**\n"
      ],
      "metadata": {
        "id": "beRrZCGUAJYm"
      }
    },
    {
      "cell_type": "markdown",
      "source": [
        "# **Project Summary -**"
      ],
      "metadata": {
        "id": "FJNUwmbgGyua"
      }
    },
    {
      "cell_type": "markdown",
      "source": [
        "**Introduction**\n",
        "\n",
        "The New York City Taxi and Limousine Commission (TLC), created in 1971, is the agency responsible for licensing and regulating New York City's Medallion (Yellow) taxi cabs, for-hire vehicles (community-based liveries, black cars and luxury limousines), commuter vans, and paratransit vehicles. Over 200,000 TLC licensees complete approximately 1,000,000 trips each day.\n",
        "\n",
        "**Problem statement**\n",
        "\n",
        "Our task is to build a model that predicts the total ride duration of taxi trips in New York City. Our primary dataset is one released by the NYC Taxi and Limousine Commission, which includes pickup time, geo-coordinates, number of passengers, and several other variables.\n",
        "\n",
        "**Approaches**\n",
        "\n",
        "Initially we started understanding and analysing the data. After some initial analysing, we started data analysing. The data we have noticed that some columns like id and last review are not useful for us so we drop both the columns. Some columns and rows have null values which also need to removed or replaced. We also found outliners in some columns and rows, such as price column. We replaced those values with in a suitable price range. This whole process is called as Data Cleaning, Transformation and Analyses. After that we have applied different regression model on cleaned dataset and selected best model based on the R2 value.\n",
        "\n",
        "**Conclusions**\n",
        "\n",
        "\n",
        "\n",
        "*   We can see that MSE and R2 and Adjusted R2 which are the metrics used to \n",
        "evaluate the performance of regression model of Linear Regression, Decision Tree, Random Forest and XGBoost Regressor.\n",
        "*  The Linear models don't show good performance on our training and testing environment.\n",
        "\n",
        "\n",
        "*   From above table we can conclude that Random Forest Regressor (80%) is the best models as compare to the other models to predict the trip duration for a particular taxi.\n"
      ],
      "metadata": {
        "id": "rNufRqi-NMD7"
      }
    },
    {
      "cell_type": "markdown",
      "source": [
        "# **GitHub Link -**"
      ],
      "metadata": {
        "id": "w6K7xa23Elo4"
      }
    },
    {
      "cell_type": "markdown",
      "source": [
        "https://github.com/ANUJGAUR/NYC-Taxi-Trip-Time-Prediction---Capstone-Project"
      ],
      "metadata": {
        "id": "h1o69JH3Eqqn"
      }
    },
    {
      "cell_type": "markdown",
      "source": [
        "# **Problem Statement**\n"
      ],
      "metadata": {
        "id": "yQaldy8SH6Dl"
      }
    },
    {
      "cell_type": "markdown",
      "source": [
        "**Our task is to build a model that predicts the total ride duration of taxi trips in New York City. Our primary dataset is one released by the NYC Taxi and Limousine Commission, which includes pickup time, geo-coordinates, number of passengers, and several other variables.**"
      ],
      "metadata": {
        "id": "DpeJGUA3kjGy"
      }
    },
    {
      "cell_type": "markdown",
      "source": [
        "# **General Guidelines** : -  "
      ],
      "metadata": {
        "id": "mDgbUHAGgjLW"
      }
    },
    {
      "cell_type": "markdown",
      "source": [
        "1.   Well-structured, formatted, and commented code is required. \n",
        "2.   Exception Handling, Production Grade Code & Deployment Ready Code will be a plus. Those students will be awarded some additional credits. \n",
        "     \n",
        "     The additional credits will have advantages over other students during Star Student selection.\n",
        "       \n",
        "             [ Note: - Deployment Ready Code is defined as, the whole .ipynb notebook should be executable in one go\n",
        "                       without a single error logged. ]\n",
        "\n",
        "3.   Each and every logic should have proper comments.\n",
        "4. You may add as many number of charts you want. Make Sure for each and every chart the following format should be answered.\n",
        "        \n",
        "\n",
        "```\n",
        "# Chart visualization code\n",
        "```\n",
        "            \n",
        "\n",
        "*   Why did you pick the specific chart?\n",
        "*   What is/are the insight(s) found from the chart?\n",
        "* Will the gained insights help creating a positive business impact? \n",
        "Are there any insights that lead to negative growth? Justify with specific reason.\n",
        "\n",
        "5. You have to create at least 15 logical & meaningful charts having important insights.\n",
        "\n",
        "\n",
        "[ Hints : - Do the Vizualization in  a structured way while following \"UBM\" Rule. \n",
        "\n",
        "U - Univariate Analysis,\n",
        "\n",
        "B - Bivariate Analysis (Numerical - Categorical, Numerical - Numerical, Categorical - Categorical)\n",
        "\n",
        "M - Multivariate Analysis\n",
        " ]\n",
        "\n",
        "\n",
        "\n",
        "\n",
        "\n",
        "6. You may add more ml algorithms for model creation. Make sure for each and every algorithm, the following format should be answered.\n",
        "\n",
        "\n",
        "*   Explain the ML Model used and it's performance using Evaluation metric Score Chart.\n",
        "\n",
        "\n",
        "*   Cross- Validation & Hyperparameter Tuning\n",
        "\n",
        "*   Have you seen any improvement? Note down the improvement with updates Evaluation metric Score Chart.\n",
        "\n",
        "*   Explain each evaluation metric's indication towards business and the business impact pf the ML model used.\n",
        "\n",
        "\n",
        "\n",
        "\n",
        "\n",
        "\n",
        "\n",
        "\n",
        "\n",
        "\n",
        "\n",
        "\n",
        "\n",
        "\n",
        "\n",
        "\n",
        "\n",
        "\n"
      ],
      "metadata": {
        "id": "ZrxVaUj-hHfC"
      }
    },
    {
      "cell_type": "markdown",
      "source": [
        "# ***Let's Begin !***"
      ],
      "metadata": {
        "id": "O_i_v8NEhb9l"
      }
    },
    {
      "cell_type": "markdown",
      "source": [
        "## ***1. Know Your Data***"
      ],
      "metadata": {
        "id": "HhfV-JJviCcP"
      }
    },
    {
      "cell_type": "markdown",
      "source": [
        "### Import Libraries"
      ],
      "metadata": {
        "id": "Y3lxredqlCYt"
      }
    },
    {
      "cell_type": "code",
      "source": [
        "#Installing haversine to calulate the distance \n",
        "!pip install haversine"
      ],
      "metadata": {
        "id": "kNPAmvVCHHJu"
      },
      "execution_count": null,
      "outputs": []
    },
    {
      "cell_type": "code",
      "source": [
        "# Import Libraries\n",
        "import numpy as np\n",
        "import pandas as pd\n",
        "import seaborn as sns\n",
        "import missingno as msno\n",
        "import matplotlib.pyplot as plt\n",
        "import warnings; warnings.simplefilter('ignore')\n",
        "import datetime as dt\n",
        "%matplotlib inline\n",
        "import haversine as hs\n",
        "from sklearn.preprocessing import StandardScaler\n",
        "from sklearn.metrics import mean_squared_error,r2_score,mean_absolute_error\n",
        "from sklearn.linear_model import LinearRegression\n",
        "from xgboost import XGBRegressor\n",
        "from sklearn.tree import DecisionTreeRegressor\n",
        "from sklearn.model_selection import train_test_split, RandomizedSearchCV\n",
        "from sklearn.ensemble import RandomForestRegressor"
      ],
      "metadata": {
        "id": "M8Vqi-pPk-HR"
      },
      "execution_count": null,
      "outputs": []
    },
    {
      "cell_type": "markdown",
      "source": [
        "### Dataset Loading"
      ],
      "metadata": {
        "id": "3RnN4peoiCZX"
      }
    },
    {
      "cell_type": "code",
      "source": [
        "#Mount drive\n",
        "from google.colab import drive\n",
        "drive.mount('/content/drive')"
      ],
      "metadata": {
        "id": "ge7H9mPiioPF"
      },
      "execution_count": null,
      "outputs": []
    },
    {
      "cell_type": "code",
      "source": [
        "# Load Dataset\n",
        "df = pd.read_csv('/content/drive/MyDrive/Capstone Project -  NYC Taxi Trip Time Prediction/NYC Taxi Data.csv')"
      ],
      "metadata": {
        "id": "4CkvbW_SlZ_R"
      },
      "execution_count": null,
      "outputs": []
    },
    {
      "cell_type": "markdown",
      "source": [
        "### Dataset First View"
      ],
      "metadata": {
        "id": "x71ZqKXriCWQ"
      }
    },
    {
      "cell_type": "code",
      "source": [
        "# Dataset First Look\n",
        "df.head()"
      ],
      "metadata": {
        "id": "LWNFOSvLl09H"
      },
      "execution_count": null,
      "outputs": []
    },
    {
      "cell_type": "markdown",
      "source": [
        "### Dataset Rows & Columns count"
      ],
      "metadata": {
        "id": "7hBIi_osiCS2"
      }
    },
    {
      "cell_type": "code",
      "source": [
        "# Dataset Rows & Columns count\n",
        "print(F'Number of rows in this dataset is {df.shape[0]}')\n",
        "print(F'Number of columns in this dataset is {df.shape[1]}')"
      ],
      "metadata": {
        "id": "Kllu7SJgmLij"
      },
      "execution_count": null,
      "outputs": []
    },
    {
      "cell_type": "markdown",
      "source": [
        "### Dataset Information"
      ],
      "metadata": {
        "id": "JlHwYmJAmNHm"
      }
    },
    {
      "cell_type": "code",
      "source": [
        "# Dataset Info\n",
        "df.info()"
      ],
      "metadata": {
        "id": "e9hRXRi6meOf"
      },
      "execution_count": null,
      "outputs": []
    },
    {
      "cell_type": "markdown",
      "source": [
        "#### Duplicate Values"
      ],
      "metadata": {
        "id": "35m5QtbWiB9F"
      }
    },
    {
      "cell_type": "code",
      "source": [
        "# Dataset Duplicate Value Count\n",
        "duplicate_value = df[df.duplicated()]\n",
        "print(f'Duplicate Value Count is {len(duplicate_value)}')"
      ],
      "metadata": {
        "id": "1sLdpKYkmox0"
      },
      "execution_count": null,
      "outputs": []
    },
    {
      "cell_type": "markdown",
      "source": [
        "#### Missing Values/Null Values"
      ],
      "metadata": {
        "id": "PoPl-ycgm1ru"
      }
    },
    {
      "cell_type": "code",
      "source": [
        "# Missing Values/Null Values Count\n",
        "df.isnull().sum()"
      ],
      "metadata": {
        "id": "GgHWkxvamxVg"
      },
      "execution_count": null,
      "outputs": []
    },
    {
      "cell_type": "code",
      "source": [
        "# Visualizing the missing values\n",
        "msno.bar(df)\n",
        "plt.show()"
      ],
      "metadata": {
        "id": "3q5wnI3om9sJ"
      },
      "execution_count": null,
      "outputs": []
    },
    {
      "cell_type": "markdown",
      "source": [
        "### What did you know about your dataset?"
      ],
      "metadata": {
        "id": "H0kj-8xxnORC"
      }
    },
    {
      "cell_type": "markdown",
      "source": [
        "\n",
        "\n",
        "\n",
        "\n",
        "From above visualization we can see that their is no  missing and duplicated values."
      ],
      "metadata": {
        "id": "gfoNAAC-nUe_"
      }
    },
    {
      "cell_type": "markdown",
      "source": [
        "## ***2. Understanding Your Variables***"
      ],
      "metadata": {
        "id": "nA9Y7ga8ng1Z"
      }
    },
    {
      "cell_type": "code",
      "source": [
        "# Dataset Columns\n",
        "df_columns = df.columns\n",
        "df_columns"
      ],
      "metadata": {
        "id": "j7xfkqrt5Ag5"
      },
      "execution_count": null,
      "outputs": []
    },
    {
      "cell_type": "code",
      "source": [
        "# Dataset Describe\n",
        "df.describe()"
      ],
      "metadata": {
        "id": "DnOaZdaE5Q5t"
      },
      "execution_count": null,
      "outputs": []
    },
    {
      "cell_type": "markdown",
      "source": [
        "### Variables Description "
      ],
      "metadata": {
        "id": "PBTbrJXOngz2"
      }
    },
    {
      "cell_type": "markdown",
      "source": [
        "From describe we know about the count, mean, standard deviation, min, max, top 25 percent values, top 50 percent values, top 75 percent values of all numerical columns.  "
      ],
      "metadata": {
        "id": "aJV4KIxSnxay"
      }
    },
    {
      "cell_type": "markdown",
      "source": [
        "### Check Unique Values for each variable."
      ],
      "metadata": {
        "id": "u3PMJOP6ngxN"
      }
    },
    {
      "cell_type": "code",
      "source": [
        "# Check Unique Values for each variable.\n",
        "df.nunique()"
      ],
      "metadata": {
        "id": "zms12Yq5n-jE"
      },
      "execution_count": null,
      "outputs": []
    },
    {
      "cell_type": "markdown",
      "source": [
        "## 3. ***Data Wrangling***"
      ],
      "metadata": {
        "id": "dauF4eBmngu3"
      }
    },
    {
      "cell_type": "markdown",
      "source": [
        "### Data Wrangling Code"
      ],
      "metadata": {
        "id": "bKJF3rekwFvQ"
      }
    },
    {
      "cell_type": "code",
      "source": [
        "# Write your code to make your dataset analysis ready.\n",
        "#changing appropiate dtype of columns\n",
        "df['pickup_datetime'] = pd.to_datetime(df['pickup_datetime'])\n",
        "df['dropoff_datetime'] = pd.to_datetime(df['dropoff_datetime'])"
      ],
      "metadata": {
        "id": "wk-9a2fpoLcV"
      },
      "execution_count": null,
      "outputs": []
    },
    {
      "cell_type": "code",
      "source": [
        "#Extracting day name from datetime\n",
        "df['pickup_day'] = df['pickup_datetime'].dt.day_name().astype('category')\n",
        "df['dropoff_day'] = df['dropoff_datetime'].dt.day_name().astype('category')"
      ],
      "metadata": {
        "id": "1diVmzRJz5N9"
      },
      "execution_count": null,
      "outputs": []
    },
    {
      "cell_type": "code",
      "source": [
        "#Extracting weekday from datetime\n",
        "df['pickup_day_no'] = df['pickup_datetime'].dt.weekday\n",
        "df['dropoff_day_no'] = df['dropoff_datetime'].dt.weekday"
      ],
      "metadata": {
        "id": "EPqT_-mQz6sc"
      },
      "execution_count": null,
      "outputs": []
    },
    {
      "cell_type": "code",
      "source": [
        "#Extracting hours from datetime\n",
        "df['pickup_hrs'] = df['pickup_datetime'].dt.hour.astype(float)\n",
        "df['dropoff_hrs'] = df['dropoff_datetime'].dt.hour.astype(float)"
      ],
      "metadata": {
        "id": "3vciVguN0BnV"
      },
      "execution_count": null,
      "outputs": []
    },
    {
      "cell_type": "code",
      "source": [
        "#Extracting month from datetime\n",
        "df['pickup_month'] = df['pickup_datetime'].dt.month.astype(float)\n",
        "df['dropoff_month'] = df['dropoff_datetime'].dt.month.astype(float)"
      ],
      "metadata": {
        "id": "GJbBzvkp0JA_"
      },
      "execution_count": null,
      "outputs": []
    },
    {
      "cell_type": "code",
      "source": [
        "#Year\n",
        "df['pickup_Year']=df['pickup_datetime'].dt.year.astype(float)\n",
        "df['dropoff_Year']=df['dropoff_datetime'].dt.year.astype(float)"
      ],
      "metadata": {
        "id": "3BkXdaO97KPh"
      },
      "execution_count": null,
      "outputs": []
    },
    {
      "cell_type": "code",
      "source": [
        "# Time\n",
        "df['Pick_Up_time'] = df['pickup_datetime'].dt.time\n",
        "df['Drop_off_time'] = df['dropoff_datetime'].dt.time"
      ],
      "metadata": {
        "id": "5niRodgr55xp"
      },
      "execution_count": null,
      "outputs": []
    },
    {
      "cell_type": "code",
      "source": [
        "#Date\n",
        "df['pickup_date']=df['pickup_datetime'].dt.date\n",
        "df['dropoff_date']=df['dropoff_datetime'].dt.date"
      ],
      "metadata": {
        "id": "vmB7-kSILzmJ"
      },
      "execution_count": null,
      "outputs": []
    },
    {
      "cell_type": "code",
      "source": [
        "#Function for calculating the distance betwwen pickup and dropoff (latitude,longitude)\n",
        "def distance(df):\n",
        "  lat1,lon1,lat2,lon2 = df['pickup_latitude'],df['pickup_longitude'],df['dropoff_latitude'],df['dropoff_longitude']\n",
        "  a = hs.haversine((lat1,lon1),(lat2,lon2))\n",
        "  return a"
      ],
      "metadata": {
        "id": "tI-yNBjwBR3h"
      },
      "execution_count": null,
      "outputs": []
    },
    {
      "cell_type": "code",
      "source": [
        "df['distance'] = df.apply(lambda x : distance(x),axis=1)"
      ],
      "metadata": {
        "id": "WqK6q3-1BZOC"
      },
      "execution_count": null,
      "outputs": []
    },
    {
      "cell_type": "code",
      "source": [
        "#Calculating speed of taxi\n",
        "df['speed'] = (df['distance']*3600)/df['trip_duration']"
      ],
      "metadata": {
        "id": "zBjvoSdhBc_d"
      },
      "execution_count": null,
      "outputs": []
    },
    {
      "cell_type": "code",
      "source": [
        "# Function for time of day\n",
        "def time_of_day(x):\n",
        "  if x in range(6,12):\n",
        "    return 'Morning'\n",
        "  elif x in range(12,16):\n",
        "    return 'Afternoon'\n",
        "  elif x in range(16,22):\n",
        "    return 'Evening'\n",
        "  else:\n",
        "    return 'Late night' "
      ],
      "metadata": {
        "id": "Jhp3JZF1AoYj"
      },
      "execution_count": null,
      "outputs": []
    },
    {
      "cell_type": "code",
      "source": [
        "#Now let us apply this function and create new columns in the dataset.\n",
        "df['pickup_time_of_day'] = df['pickup_hrs'].apply(time_of_day)\n",
        "df['dropoff_time_of_day'] = df['dropoff_hrs'].apply(time_of_day)"
      ],
      "metadata": {
        "id": "RQ0EJMDMAzFo"
      },
      "execution_count": null,
      "outputs": []
    },
    {
      "cell_type": "code",
      "source": [
        "df.head()"
      ],
      "metadata": {
        "id": "LhlYCdnlA34Z"
      },
      "execution_count": null,
      "outputs": []
    },
    {
      "cell_type": "markdown",
      "source": [
        "### What all manipulations have you done and insights you found?"
      ],
      "metadata": {
        "id": "MSa1f5Uengrz"
      }
    },
    {
      "cell_type": "markdown",
      "source": [
        "\n",
        "\n",
        "1.   Changed the dtype of columns 'pickup_datetime' and 'dropoff_datetime' to datetime dtype.\n",
        "2.   Adding important columns 'pickup_day', 'dropoff_day', 'pickup_day_no', 'dropoff_day_no', 'pickup_hrs', 'dropoff_hrs', 'pickup_month', 'dropoff_month', 'Pick_Up_time','Year', 'Date'. \n",
        "\n"
      ],
      "metadata": {
        "id": "LbyXE7I1olp8"
      }
    },
    {
      "cell_type": "markdown",
      "source": [
        "## ***4. Data Vizualization, Storytelling & Experimenting with charts : Understand the relationships between variables***"
      ],
      "metadata": {
        "id": "GF8Ens_Soomf"
      }
    },
    {
      "cell_type": "markdown",
      "source": [
        "#### Pie chart for vendor ID distribution "
      ],
      "metadata": {
        "id": "0wOQAZs5pc--"
      }
    },
    {
      "cell_type": "code",
      "source": [
        "# Pie chart for vendor ID distribution \n",
        "df['vendor_id'].value_counts().plot.pie(figsize = (7,9), autopct='%1.1f%%')\n",
        "plt.legend()\n",
        "plt.show()"
      ],
      "metadata": {
        "id": "7v_ESjsspbW7"
      },
      "execution_count": null,
      "outputs": []
    },
    {
      "cell_type": "markdown",
      "source": [
        "##### 1. Why did you pick the specific chart?"
      ],
      "metadata": {
        "id": "K5QZ13OEpz2H"
      }
    },
    {
      "cell_type": "markdown",
      "source": [
        "I picked up pie chart because in this we can see the exact distribution in percentage. "
      ],
      "metadata": {
        "id": "XESiWehPqBRc"
      }
    },
    {
      "cell_type": "markdown",
      "source": [
        "##### 2. What is/are the insight(s) found from the chart?"
      ],
      "metadata": {
        "id": "lQ7QKXXCp7Bj"
      }
    },
    {
      "cell_type": "markdown",
      "source": [
        "We can observe that there are approximately similar percentage on both side"
      ],
      "metadata": {
        "id": "C_j1G7yiqdRP"
      }
    },
    {
      "cell_type": "markdown",
      "source": [
        "##### 3. Will the gained insights help creating a positive business impact? \n",
        "Are there any insights that lead to negative growth? Justify with specific reason."
      ],
      "metadata": {
        "id": "448CDAPjqfQr"
      }
    },
    {
      "cell_type": "markdown",
      "source": [
        "No"
      ],
      "metadata": {
        "id": "3cspy4FjqxJW"
      }
    },
    {
      "cell_type": "markdown",
      "source": [
        "#### Countplot for Passenger Count"
      ],
      "metadata": {
        "id": "KSlN3yHqYklG"
      }
    },
    {
      "cell_type": "code",
      "source": [
        "'''Countplot for Passenger Count'''\n",
        "\n",
        "#Plotting Sub Plot \n",
        "fig, axes = plt.subplots(1, 2,figsize=(20,5))\n",
        "\n",
        "#Plotting bar graph \n",
        "sns.countplot(df['passenger_count'],ax=axes[0])\n",
        "plt.title('Distribution of passenger count ')\n",
        "plt.xlabel('Passenger')\n",
        "plt.ylabel('Count')\n",
        "\n",
        "#Plotting Box Plot\n",
        "sns.boxplot(df['passenger_count'],color='blue',ax=axes[1])\n",
        "\n",
        "plt.show()"
      ],
      "metadata": {
        "id": "R4YgtaqtYklH"
      },
      "execution_count": null,
      "outputs": []
    },
    {
      "cell_type": "markdown",
      "source": [
        "##### 1. Why did you pick the specific chart?"
      ],
      "metadata": {
        "id": "t6dVpIINYklI"
      }
    },
    {
      "cell_type": "markdown",
      "source": [
        "I picked up countplot and boxplot.\n",
        "Countplot is to see the count of unique passenger and boxplot to see the outliers."
      ],
      "metadata": {
        "id": "5aaW0BYyYklI"
      }
    },
    {
      "cell_type": "markdown",
      "source": [
        "##### 2. What is/are the insight(s) found from the chart?"
      ],
      "metadata": {
        "id": "ijmpgYnKYklI"
      }
    },
    {
      "cell_type": "markdown",
      "source": [
        "\n",
        "According to Driver Rule 54-15(g) of 'NYC Taxi and Limousine Commission' , maximum permissible number of passengers in a taxi is 6. Hence we will drop values which are greater than 6."
      ],
      "metadata": {
        "id": "PSx9atu2YklI"
      }
    },
    {
      "cell_type": "markdown",
      "source": [
        "##### 3. Will the gained insights help creating a positive business impact? \n",
        "Are there any insights that lead to negative growth? Justify with specific reason."
      ],
      "metadata": {
        "id": "-JiQyfWJYklI"
      }
    },
    {
      "cell_type": "markdown",
      "source": [
        "Yes, the gained insights help creating a positive business impact.\n",
        "\n",
        "There are some values that are represented by 0, we will drop these values because this is clearly a mistake that lead to negative growth\n",
        "\n"
      ],
      "metadata": {
        "id": "BcBbebzrYklV"
      }
    },
    {
      "cell_type": "markdown",
      "source": [
        "#### Trip duration overall distribution"
      ],
      "metadata": {
        "id": "EM7whBJCYoAo"
      }
    },
    {
      "cell_type": "code",
      "source": [
        "'''trip duration overall distribution '''\n",
        "\n",
        "# taking the 97% Quantile values to remove outliers \n",
        "tripduration = df[df.trip_duration < df.trip_duration.quantile(.97)]\n",
        "\n",
        "#Plotting Trip duration VS Trip_duration.counts\n",
        "tripduration.groupby('trip_duration').count()['id'].plot()\n",
        "plt.xlabel('trip duration (sec)')\n",
        "plt.ylabel('trips counts')\n",
        "plt.title('Duration Distribution')\n",
        "plt.show()"
      ],
      "metadata": {
        "id": "t6GMdE67YoAp"
      },
      "execution_count": null,
      "outputs": []
    },
    {
      "cell_type": "markdown",
      "source": [
        "##### 1. Why did you pick the specific chart?"
      ],
      "metadata": {
        "id": "fge-S5ZAYoAp"
      }
    },
    {
      "cell_type": "markdown",
      "source": [
        "I picked line plot because large numbers of rows and in this i can easily see the distribution."
      ],
      "metadata": {
        "id": "5dBItgRVYoAp"
      }
    },
    {
      "cell_type": "markdown",
      "source": [
        "##### 2. What is/are the insight(s) found from the chart?"
      ],
      "metadata": {
        "id": "85gYPyotYoAp"
      }
    },
    {
      "cell_type": "markdown",
      "source": [
        "I found most of the peoples take taxi trip between 400 to 1000 sec. "
      ],
      "metadata": {
        "id": "4jstXR6OYoAp"
      }
    },
    {
      "cell_type": "markdown",
      "source": [
        "##### 3. Will the gained insights help creating a positive business impact? \n",
        "Are there any insights that lead to negative growth? Justify with specific reason."
      ],
      "metadata": {
        "id": "RoGjAbkUYoAp"
      }
    },
    {
      "cell_type": "markdown",
      "source": [
        "Yes, the gained insights help creating a positive business impact.\n",
        "\n",
        "Yes, Some trips take too long/too fast are obvious wrong, maybe because of tech/maunal operation issues, should filter them in following process\n"
      ],
      "metadata": {
        "id": "zfJ8IqMcYoAp"
      }
    },
    {
      "cell_type": "markdown",
      "source": [
        "#### Plotting bar graph for store_and_fwd_flag"
      ],
      "metadata": {
        "id": "4Of9eVA-YrdM"
      }
    },
    {
      "cell_type": "markdown",
      "source": [
        "This flag indicates whether the trip record was held in vehicle memory before sending to the vendor because the vehicle did not have a connection to the server - Y=store and forward; N=not a store and forward trip"
      ],
      "metadata": {
        "id": "fSa-J8iWJ6yp"
      }
    },
    {
      "cell_type": "code",
      "source": [
        "#Plotting bar graph for store_and_fwd_flag\n",
        "sns.countplot(df['store_and_fwd_flag'])\n",
        "plt.title('Distribution of store and flag values ')\n",
        "plt.xlabel('store and flag values')\n",
        "plt.ylabel('Count')\n",
        "plt.show()"
      ],
      "metadata": {
        "id": "irlUoxc8YrdO"
      },
      "execution_count": null,
      "outputs": []
    },
    {
      "cell_type": "markdown",
      "source": [
        "##### 1. Why did you pick the specific chart?"
      ],
      "metadata": {
        "id": "iky9q4vBYrdO"
      }
    },
    {
      "cell_type": "markdown",
      "source": [
        "I picked bar graph to see the count of N and Y."
      ],
      "metadata": {
        "id": "aJRCwT6DYrdO"
      }
    },
    {
      "cell_type": "markdown",
      "source": [
        "##### 2. What is/are the insight(s) found from the chart?"
      ],
      "metadata": {
        "id": "F6T5p64dYrdO"
      }
    },
    {
      "cell_type": "markdown",
      "source": [
        "I found their are almost 100 percent values is N means not a store and forward trip.  "
      ],
      "metadata": {
        "id": "Xx8WAJvtYrdO"
      }
    },
    {
      "cell_type": "markdown",
      "source": [
        "##### 3. Will the gained insights help creating a positive business impact? \n",
        "Are there any insights that lead to negative growth? Justify with specific reason."
      ],
      "metadata": {
        "id": "y-Ehk30pYrdP"
      }
    },
    {
      "cell_type": "markdown",
      "source": [
        "No"
      ],
      "metadata": {
        "id": "jLNxxz7MYrdP"
      }
    },
    {
      "cell_type": "markdown",
      "source": [
        "#### Plotting pie chart passenger_count"
      ],
      "metadata": {
        "id": "bamQiAODYuh1"
      }
    },
    {
      "cell_type": "code",
      "source": [
        "#Plotting pie chart passenger_count\n",
        "df['passenger_count'].value_counts().plot.pie(figsize = (7,9), autopct='%1.1f%%')\n",
        "plt.legend()\n",
        "\n",
        "plt.show()\n"
      ],
      "metadata": {
        "id": "TIJwrbroYuh3"
      },
      "execution_count": null,
      "outputs": []
    },
    {
      "cell_type": "markdown",
      "source": [
        "##### 1. Why did you pick the specific chart?"
      ],
      "metadata": {
        "id": "QHF8YVU7Yuh3"
      }
    },
    {
      "cell_type": "markdown",
      "source": [
        "I picked pie chart to see the percentage distribution of passenger count."
      ],
      "metadata": {
        "id": "dcxuIMRPYuh3"
      }
    },
    {
      "cell_type": "markdown",
      "source": [
        "##### 2. What is/are the insight(s) found from the chart?"
      ],
      "metadata": {
        "id": "GwzvFGzlYuh3"
      }
    },
    {
      "cell_type": "markdown",
      "source": [
        "I found their are some passenger with zero percent distribution."
      ],
      "metadata": {
        "id": "uyqkiB8YYuh3"
      }
    },
    {
      "cell_type": "markdown",
      "source": [
        "##### 3. Will the gained insights help creating a positive business impact? \n",
        "Are there any insights that lead to negative growth? Justify with specific reason."
      ],
      "metadata": {
        "id": "qYpmQ266Yuh3"
      }
    },
    {
      "cell_type": "markdown",
      "source": [
        "Yes, the gained insights help creating a positive business impact.\n",
        "\n",
        "There are some values that are represented by 0, we will drop these values because this is clearly a mistake that lead to negative growth"
      ],
      "metadata": {
        "id": "_WtzZ_hCYuh4"
      }
    },
    {
      "cell_type": "markdown",
      "source": [
        "#### Plotting graph of Pickup and Dropoff counts wr to dattes."
      ],
      "metadata": {
        "id": "OH-pJp9IphqM"
      }
    },
    {
      "cell_type": "code",
      "source": [
        "'''Plotting graph of Pickup and Dropoff counts wr to dattes.'''\n",
        "fig, ax = plt.subplots(ncols=2, sharey=True)\n",
        "fig.set_size_inches(12, 5)\n",
        "\n",
        "#Plotting for Pickups\n",
        "ax[0].plot(df.groupby('pickup_date').count()['id'], 'go-', alpha=0.5)\n",
        "ax[0].set(xlabel='date', ylabel='Count',title=\"pickup counts\")\n",
        "\n",
        "#PLotting For Dropoffs\n",
        "ax[1].plot(df.groupby('dropoff_date').count()['id'], 'bo-', alpha=0.5)\n",
        "ax[1].set(xlabel='date', ylabel='Count',title=\"dropoff counts\")\n",
        "\n",
        "plt.show()"
      ],
      "metadata": {
        "id": "kuRf4wtuphqN"
      },
      "execution_count": null,
      "outputs": []
    },
    {
      "cell_type": "markdown",
      "source": [
        "##### 1. Why did you pick the specific chart?"
      ],
      "metadata": {
        "id": "bbFf2-_FphqN"
      }
    },
    {
      "cell_type": "markdown",
      "source": [
        "I picked line plot because large numbers of rows and in this i can easily see the distribution."
      ],
      "metadata": {
        "id": "loh7H2nzphqN"
      }
    },
    {
      "cell_type": "markdown",
      "source": [
        "##### 2. What is/are the insight(s) found from the chart?"
      ],
      "metadata": {
        "id": "_ouA3fa0phqN"
      }
    },
    {
      "cell_type": "markdown",
      "source": [
        "We observe that daily Drop Off vary between 6000 and 1000, values on 26-07-01,2016-01-23,2016-01-24 are considerably low."
      ],
      "metadata": {
        "id": "VECbqPI7phqN"
      }
    },
    {
      "cell_type": "markdown",
      "source": [
        "##### 3. Will the gained insights help creating a positive business impact? \n",
        "Are there any insights that lead to negative growth? Justify with specific reason."
      ],
      "metadata": {
        "id": "Seke61FWphqN"
      }
    },
    {
      "cell_type": "markdown",
      "source": [
        "No"
      ],
      "metadata": {
        "id": "DW4_bGpfphqN"
      }
    },
    {
      "cell_type": "markdown",
      "source": [
        "#### Variation of passenger count with pickupdate "
      ],
      "metadata": {
        "id": "PIIx-8_IphqN"
      }
    },
    {
      "cell_type": "code",
      "source": [
        "#Variation of passenger count with pickupdate \n",
        "df.groupby(['pickup_date']).sum()['passenger_count'].plot()\n",
        "\n",
        "plt.show()"
      ],
      "metadata": {
        "id": "lqAIGUfyphqO"
      },
      "execution_count": null,
      "outputs": []
    },
    {
      "cell_type": "markdown",
      "source": [
        "##### 1. Why did you pick the specific chart?"
      ],
      "metadata": {
        "id": "t27r6nlMphqO"
      }
    },
    {
      "cell_type": "markdown",
      "source": [
        "I picked line plot to see the variation of passengeer count with pickup date."
      ],
      "metadata": {
        "id": "iv6ro40sphqO"
      }
    },
    {
      "cell_type": "markdown",
      "source": [
        "##### 2. What is/are the insight(s) found from the chart?"
      ],
      "metadata": {
        "id": "r2jJGEOYphqO"
      }
    },
    {
      "cell_type": "markdown",
      "source": [
        "I found in between 2016-01 to 2016-02 ,passenger count was low as comparison to other dates."
      ],
      "metadata": {
        "id": "Po6ZPi4hphqO"
      }
    },
    {
      "cell_type": "markdown",
      "source": [
        "##### 3. Will the gained insights help creating a positive business impact? \n",
        "Are there any insights that lead to negative growth? Justify with specific reason."
      ],
      "metadata": {
        "id": "b0JNsNcRphqO"
      }
    },
    {
      "cell_type": "markdown",
      "source": [
        "Yes, the gained insights help creating a positive business impact.\n",
        "\n",
        "There are no such insights that lead to negative growth."
      ],
      "metadata": {
        "id": "xvSq8iUTphqO"
      }
    },
    {
      "cell_type": "markdown",
      "source": [
        "#### Variation of passenger count with dropoff date "
      ],
      "metadata": {
        "id": "BZR9WyysphqO"
      }
    },
    {
      "cell_type": "code",
      "source": [
        "#Variation of passenger count with dropoff date \n",
        "df.groupby(['dropoff_date']).sum()['passenger_count'].plot()\n",
        "\n",
        "plt.show()"
      ],
      "metadata": {
        "id": "TdPTWpAVphqO"
      },
      "execution_count": null,
      "outputs": []
    },
    {
      "cell_type": "markdown",
      "source": [
        "##### 1. Why did you pick the specific chart?"
      ],
      "metadata": {
        "id": "jj7wYXLtphqO"
      }
    },
    {
      "cell_type": "markdown",
      "source": [
        "I picked line plot to see the variation of passengeer count with dropoff date."
      ],
      "metadata": {
        "id": "Ob8u6rCTphqO"
      }
    },
    {
      "cell_type": "markdown",
      "source": [
        "##### 2. What is/are the insight(s) found from the chart?"
      ],
      "metadata": {
        "id": "eZrbJ2SmphqO"
      }
    },
    {
      "cell_type": "markdown",
      "source": [
        "I found in between 2016-01 to 2016-02 and 2016-07 ,passenger count was low as comparison to other dates."
      ],
      "metadata": {
        "id": "mZtgC_hjphqO"
      }
    },
    {
      "cell_type": "markdown",
      "source": [
        "##### 3. Will the gained insights help creating a positive business impact? \n",
        "Are there any insights that lead to negative growth? Justify with specific reason."
      ],
      "metadata": {
        "id": "rFu4xreNphqO"
      }
    },
    {
      "cell_type": "markdown",
      "source": [
        "Yes, the gained insights help creating a positive business impact.\n",
        "\n",
        "There are no such insights that lead to negative growth."
      ],
      "metadata": {
        "id": "ey_0qi68phqO"
      }
    },
    {
      "cell_type": "markdown",
      "source": [
        "#### Plotting a pivot table with pickup date time hour and aggrgate (mean median and std) of trip duration "
      ],
      "metadata": {
        "id": "YJ55k-q6phqO"
      }
    },
    {
      "cell_type": "code",
      "source": [
        "''' Plotting a pivot table with pickup date time hour and aggrgate (mean median and std) of trip duration '''\n",
        "\n",
        "pd.pivot_table(tripduration, index='pickup_hrs' ,aggfunc=np.mean)['trip_duration'].plot(label='mean')\n",
        "pd.pivot_table(tripduration, index='pickup_hrs' ,aggfunc=np.median)['trip_duration'].plot(label='median')\n",
        "pd.pivot_table(tripduration, index='pickup_hrs' ,aggfunc=np.std)['trip_duration'].plot(label='std')\n",
        "\n",
        "# plotting the table \n",
        "plt.legend(loc=0)\n",
        "plt.xlabel('Pick up Hour (0-23)')\n",
        "plt.ylabel('order counts ')\n",
        "plt.title('order counts VS Pickup hour')\n",
        "plt.show()"
      ],
      "metadata": {
        "id": "B2aS4O1ophqO"
      },
      "execution_count": null,
      "outputs": []
    },
    {
      "cell_type": "markdown",
      "source": [
        "##### 1. Why did you pick the specific chart?"
      ],
      "metadata": {
        "id": "gCFgpxoyphqP"
      }
    },
    {
      "cell_type": "markdown",
      "source": [
        "I picked line plot to see comparion of mean , median and mode of pickup hour."
      ],
      "metadata": {
        "id": "TVxDimi2phqP"
      }
    },
    {
      "cell_type": "markdown",
      "source": [
        "##### 2. What is/are the insight(s) found from the chart?"
      ],
      "metadata": {
        "id": "OVtJsKN_phqQ"
      }
    },
    {
      "cell_type": "markdown",
      "source": [
        "I found mean and median of pickup hour is minimum at 6."
      ],
      "metadata": {
        "id": "ngGi97qjphqQ"
      }
    },
    {
      "cell_type": "markdown",
      "source": [
        "##### 3. Will the gained insights help creating a positive business impact? \n",
        "Are there any insights that lead to negative growth? Justify with specific reason."
      ],
      "metadata": {
        "id": "lssrdh5qphqQ"
      }
    },
    {
      "cell_type": "markdown",
      "source": [
        "Yes, the gained insights help creating a positive business impact.\n",
        "\n",
        "There are no such insights that lead to negative growth."
      ],
      "metadata": {
        "id": "tBpY5ekJphqQ"
      }
    },
    {
      "cell_type": "markdown",
      "source": [
        "#### Plotting  store_and_fwd_flag VS trip_duration"
      ],
      "metadata": {
        "id": "U2RJ9gkRphqQ"
      }
    },
    {
      "cell_type": "code",
      "source": [
        "# Plotting  store_and_fwd_flag VS trip_duration\n",
        "plt.figure(figsize=(14,6))\n",
        "sns.barplot(x='pickup_hrs',y='trip_duration',data=df,hue='store_and_fwd_flag')\n",
        "plt.xlabel('Pickup Hour',fontsize=16)\n",
        "plt.ylabel('Trip Duration',fontsize=16)\n",
        "plt.show()"
      ],
      "metadata": {
        "id": "GM7a4YP4phqQ"
      },
      "execution_count": null,
      "outputs": []
    },
    {
      "cell_type": "markdown",
      "source": [
        "##### 1. Why did you pick the specific chart?"
      ],
      "metadata": {
        "id": "1M8mcRywphqQ"
      }
    },
    {
      "cell_type": "markdown",
      "source": [
        "I picked barplot to see the comparison of store_and_fwd_flag VS trip_duration."
      ],
      "metadata": {
        "id": "8agQvks0phqQ"
      }
    },
    {
      "cell_type": "markdown",
      "source": [
        "##### 2. What is/are the insight(s) found from the chart?"
      ],
      "metadata": {
        "id": "tgIPom80phqQ"
      }
    },
    {
      "cell_type": "markdown",
      "source": [
        "I found store_and_fwd_flag is almost equally distributed in trip duration."
      ],
      "metadata": {
        "id": "Qp13pnNzphqQ"
      }
    },
    {
      "cell_type": "markdown",
      "source": [
        "##### 3. Will the gained insights help creating a positive business impact? \n",
        "Are there any insights that lead to negative growth? Justify with specific reason."
      ],
      "metadata": {
        "id": "JMzcOPDDphqR"
      }
    },
    {
      "cell_type": "markdown",
      "source": [
        "Yes, the gained insights help creating a positive business impact.\n",
        "\n",
        "There are no such insights that lead to negative growth."
      ],
      "metadata": {
        "id": "R4Ka1PC2phqR"
      }
    },
    {
      "cell_type": "markdown",
      "source": [
        "#### Plot showing variation in trip duraion for diffrent pickups for diffrent months "
      ],
      "metadata": {
        "id": "x-EpHcCOp1ci"
      }
    },
    {
      "cell_type": "code",
      "source": [
        "#Plot showing variation in trip duraion for diffrent pickups for diffrent months \n",
        "plt.figure(figsize=(14,6))\n",
        "sns.pointplot(x='pickup_hrs',y='trip_duration',data=tripduration,hue='pickup_month')\n",
        "plt.xlabel('Pickup Hour',fontsize=16)\n",
        "plt.ylabel('Trip Duration)',fontsize=16)\n",
        "plt.show()"
      ],
      "metadata": {
        "id": "mAQTIvtqp1cj"
      },
      "execution_count": null,
      "outputs": []
    },
    {
      "cell_type": "markdown",
      "source": [
        "##### 1. Why did you pick the specific chart?"
      ],
      "metadata": {
        "id": "X_VqEhTip1ck"
      }
    },
    {
      "cell_type": "markdown",
      "source": [
        "I pickup point plot to see variation in trip duraion for diffrent pickups for diffrent months."
      ],
      "metadata": {
        "id": "-vsMzt_np1ck"
      }
    },
    {
      "cell_type": "markdown",
      "source": [
        "##### 2. What is/are the insight(s) found from the chart?"
      ],
      "metadata": {
        "id": "8zGJKyg5p1ck"
      }
    },
    {
      "cell_type": "markdown",
      "source": [
        "I found in trip duraion for diffrent pickups for diffrent months is minimum at 6."
      ],
      "metadata": {
        "id": "ZYdMsrqVp1ck"
      }
    },
    {
      "cell_type": "markdown",
      "source": [
        "##### 3. Will the gained insights help creating a positive business impact? \n",
        "Are there any insights that lead to negative growth? Justify with specific reason."
      ],
      "metadata": {
        "id": "PVzmfK_Ep1ck"
      }
    },
    {
      "cell_type": "markdown",
      "source": [
        "Yes, the gained insights help creating a positive business impact.\n",
        "\n",
        "There are no such insights that lead to negative growth."
      ],
      "metadata": {
        "id": "druuKYZpp1ck"
      }
    },
    {
      "cell_type": "markdown",
      "source": [
        "#### Plot showing variation in trip duraion for diffrent dropoffs for diffrent months"
      ],
      "metadata": {
        "id": "n3dbpmDWp1ck"
      }
    },
    {
      "cell_type": "code",
      "source": [
        "#Plot showing variation in trip duraion for diffrent dropoffs for diffrent months \n",
        "plt.figure(figsize=(14,6))\n",
        "sns.pointplot(x='dropoff_hrs',y='trip_duration',data=tripduration,hue='pickup_month')\n",
        "plt.xlabel('dropoff Hour',fontsize=16)\n",
        "plt.ylabel('Trip Duration)',fontsize=16)\n",
        "plt.show()"
      ],
      "metadata": {
        "id": "bwevp1tKp1ck"
      },
      "execution_count": null,
      "outputs": []
    },
    {
      "cell_type": "markdown",
      "source": [
        "##### 1. Why did you pick the specific chart?"
      ],
      "metadata": {
        "id": "ylSl6qgtp1ck"
      }
    },
    {
      "cell_type": "markdown",
      "source": [
        "I picked point plot to see variation in trip duraion for diffrent dropoffs for diffrent months."
      ],
      "metadata": {
        "id": "m2xqNkiQp1ck"
      }
    },
    {
      "cell_type": "markdown",
      "source": [
        "##### 2. What is/are the insight(s) found from the chart?"
      ],
      "metadata": {
        "id": "ZWILFDl5p1ck"
      }
    },
    {
      "cell_type": "markdown",
      "source": [
        "Months only affect duration a little bit ; while pickup hours seems may be infulence that more."
      ],
      "metadata": {
        "id": "x-lUsV2mp1ck"
      }
    },
    {
      "cell_type": "markdown",
      "source": [
        "##### 3. Will the gained insights help creating a positive business impact? \n",
        "Are there any insights that lead to negative growth? Justify with specific reason."
      ],
      "metadata": {
        "id": "M7G43BXep1ck"
      }
    },
    {
      "cell_type": "markdown",
      "source": [
        "Yes, the gained insights help creating a positive business impact.\n",
        "\n",
        "There are no such insights that lead to negative growth."
      ],
      "metadata": {
        "id": "5wwDJXsLp1cl"
      }
    },
    {
      "cell_type": "markdown",
      "source": [
        "#### Plotting a line graph to represent the change in time duration of trip for diffrent days of the week"
      ],
      "metadata": {
        "id": "Ag9LCva-p1cl"
      }
    },
    {
      "cell_type": "code",
      "source": [
        "# Plotting a line graph to represent the change in time duration of trip for diffrent days of the week \n",
        "plt.figure(figsize=(14,6))\n",
        "sns.pointplot(x='pickup_hrs',y='trip_duration',data=tripduration,hue='pickup_day')\n",
        "plt.xlabel('Pickup Hour',fontsize=16)\n",
        "plt.ylabel('Trip Duration)',fontsize=16)\n",
        "plt.show()"
      ],
      "metadata": {
        "id": "EUfxeq9-p1cl"
      },
      "execution_count": null,
      "outputs": []
    },
    {
      "cell_type": "markdown",
      "source": [
        "##### 1. Why did you pick the specific chart?"
      ],
      "metadata": {
        "id": "E6MkPsBcp1cl"
      }
    },
    {
      "cell_type": "markdown",
      "source": [
        "I pikcked point plot to to represent the change in time duration of trip for diffrent days of the week."
      ],
      "metadata": {
        "id": "V22bRsFWp1cl"
      }
    },
    {
      "cell_type": "markdown",
      "source": [
        "##### 2. What is/are the insight(s) found from the chart?"
      ],
      "metadata": {
        "id": "2cELzS2fp1cl"
      }
    },
    {
      "cell_type": "markdown",
      "source": [
        "\n",
        "\n",
        "*   During the moring rush hours from Monday to Friday ie. 7 AM to 10 AM, maybe owing to traffic jam.\n",
        "*   Duration are high during workday (Mon.-Fri.)\n",
        "\n"
      ],
      "metadata": {
        "id": "ozQPc2_Ip1cl"
      }
    },
    {
      "cell_type": "markdown",
      "source": [
        "##### 3. Will the gained insights help creating a positive business impact? \n",
        "Are there any insights that lead to negative growth? Justify with specific reason."
      ],
      "metadata": {
        "id": "3MPXvC8up1cl"
      }
    },
    {
      "cell_type": "markdown",
      "source": [
        "Yes, the gained insights help creating a positive business impact.\n",
        "\n",
        "There are no such insights that lead to negative growth."
      ],
      "metadata": {
        "id": "GL8l1tdLp1cl"
      }
    },
    {
      "cell_type": "markdown",
      "source": [
        "#### Correlation Heatmap"
      ],
      "metadata": {
        "id": "NC_X3p0fY2L0"
      }
    },
    {
      "cell_type": "code",
      "source": [
        "#Let's see correlation graph\n",
        "plt.figure(figsize=(20,12))\n",
        "correlation = df.corr()\n",
        "sns.heatmap(abs(correlation), annot=True, cmap='coolwarm')\n",
        "plt.show()"
      ],
      "metadata": {
        "id": "xyC9zolEZNRQ"
      },
      "execution_count": null,
      "outputs": []
    },
    {
      "cell_type": "markdown",
      "source": [
        "##### 1. Why did you pick the specific chart?"
      ],
      "metadata": {
        "id": "UV0SzAkaZNRQ"
      }
    },
    {
      "cell_type": "markdown",
      "source": [
        "I picked heatmap to see the correlation."
      ],
      "metadata": {
        "id": "DVPuT8LYZNRQ"
      }
    },
    {
      "cell_type": "markdown",
      "source": [
        "##### 2. What is/are the insight(s) found from the chart?"
      ],
      "metadata": {
        "id": "YPEH6qLeZNRQ"
      }
    },
    {
      "cell_type": "markdown",
      "source": [
        "I found there are some variables whose correlation is too high, so we will remove that variables."
      ],
      "metadata": {
        "id": "bfSqtnDqZNRR"
      }
    },
    {
      "cell_type": "markdown",
      "source": [
        "##***5. Feature Engineering & Data Pre-processing***"
      ],
      "metadata": {
        "id": "yLjJCtPM0KBk"
      }
    },
    {
      "cell_type": "markdown",
      "source": [
        "### 1. Handling Missing Values"
      ],
      "metadata": {
        "id": "xiyOF9F70UgQ"
      }
    },
    {
      "cell_type": "code",
      "source": [
        "# Handling Missing Values & Missing Value Imputation\n",
        "df.isnull().sum()"
      ],
      "metadata": {
        "id": "iRsAHk1K0fpS"
      },
      "execution_count": null,
      "outputs": []
    },
    {
      "cell_type": "markdown",
      "source": [
        "#### What all missing value imputation techniques have you used and why did you use those techniques?"
      ],
      "metadata": {
        "id": "7wuGOrhz0itI"
      }
    },
    {
      "cell_type": "markdown",
      "source": [
        "In this dataset their is no missing values."
      ],
      "metadata": {
        "id": "1ixusLtI0pqI"
      }
    },
    {
      "cell_type": "markdown",
      "source": [
        "### 2. Handling Outliers"
      ],
      "metadata": {
        "id": "id1riN9m0vUs"
      }
    },
    {
      "cell_type": "code",
      "source": [
        "# Handling Outliers & Outlier treatments\n",
        "\n",
        "#Taking numerical columns\n",
        "numeric_col = df.describe().columns\n",
        "\n",
        "#checking outliers of numeric columns\n",
        "for i in numeric_col:\n",
        "  sns.boxplot(df[i])\n",
        "  plt.show()"
      ],
      "metadata": {
        "id": "M6w2CzZf04JK"
      },
      "execution_count": null,
      "outputs": []
    },
    {
      "cell_type": "code",
      "source": [
        "#Function to check outliers\n",
        "def check_outliers(start,end,step,column):\n",
        "  for i in range(start,end,step):\n",
        "    a = column.values\n",
        "    a=np.sort(a)\n",
        "    print('{} percentile value is {}'.format(i,int(column.quantile(i/100))))\n",
        "  print('{} percentile value is {}'.format(100,a[-1]))"
      ],
      "metadata": {
        "id": "D2fvrvce786n"
      },
      "execution_count": null,
      "outputs": []
    },
    {
      "cell_type": "code",
      "source": [
        "#Removing outliers of column trip duration\n",
        "check_outliers(0,100,10,df['trip_duration'])"
      ],
      "metadata": {
        "id": "BRK5kncW04hT"
      },
      "execution_count": null,
      "outputs": []
    },
    {
      "cell_type": "code",
      "source": [
        "check_outliers(90,100,1,df['trip_duration'])"
      ],
      "metadata": {
        "id": "N9nMVsGO0_jb"
      },
      "execution_count": null,
      "outputs": []
    },
    {
      "cell_type": "code",
      "source": [
        "df = df.drop(df[df['trip_duration']>=3440].index)"
      ],
      "metadata": {
        "id": "cIoZHmYC1Drv"
      },
      "execution_count": null,
      "outputs": []
    },
    {
      "cell_type": "code",
      "source": [
        "sns.boxplot(df.trip_duration)\n",
        "plt.show()"
      ],
      "metadata": {
        "id": "NWZ3aw151YJ2"
      },
      "execution_count": null,
      "outputs": []
    },
    {
      "cell_type": "code",
      "source": [
        "#Removing outliers from passenger count\n",
        "df['passenger_count'].value_counts()"
      ],
      "metadata": {
        "id": "HjdGYq4-1cgF"
      },
      "execution_count": null,
      "outputs": []
    },
    {
      "cell_type": "code",
      "source": [
        "df = df.drop(df[df['passenger_count']==0].index)\n",
        "df = df.drop(df[df['passenger_count']>=7].index)"
      ],
      "metadata": {
        "id": "5z4_pOCgt2sA"
      },
      "execution_count": null,
      "outputs": []
    },
    {
      "cell_type": "code",
      "source": [
        "sns.boxplot(df.passenger_count)\n",
        "plt.show()"
      ],
      "metadata": {
        "id": "fwLx5BuMt5Ui"
      },
      "execution_count": null,
      "outputs": []
    },
    {
      "cell_type": "code",
      "source": [
        "#Removing outliers of distance column\n",
        "check_outliers(0,100,10,df['distance'])"
      ],
      "metadata": {
        "id": "blHEOE2Jt8R9"
      },
      "execution_count": null,
      "outputs": []
    },
    {
      "cell_type": "code",
      "source": [
        "check_outliers(90,100,1,df['distance'])"
      ],
      "metadata": {
        "id": "LsBsGcN438lR"
      },
      "execution_count": null,
      "outputs": []
    },
    {
      "cell_type": "code",
      "source": [
        "df = df.drop(df[df['distance']==0].index)\n",
        "df = df.drop(df[df['distance']>20].index)"
      ],
      "metadata": {
        "id": "_D43GmT1t_wH"
      },
      "execution_count": null,
      "outputs": []
    },
    {
      "cell_type": "code",
      "source": [
        "sns.boxplot(df.distance)\n",
        "plt.show()"
      ],
      "metadata": {
        "id": "_QGVynsi62TF"
      },
      "execution_count": null,
      "outputs": []
    },
    {
      "cell_type": "code",
      "source": [
        "#Removing outliers of speed column\n",
        "check_outliers(0,100,10,df['speed'])"
      ],
      "metadata": {
        "id": "6_TlHQscuITg"
      },
      "execution_count": null,
      "outputs": []
    },
    {
      "cell_type": "code",
      "source": [
        "check_outliers(90,100,1,df['speed'])"
      ],
      "metadata": {
        "id": "6yBas05M-Xdp"
      },
      "execution_count": null,
      "outputs": []
    },
    {
      "cell_type": "code",
      "source": [
        "df = df[df['speed'] <= 40]\n",
        "df = df[df['speed'] >= 5]"
      ],
      "metadata": {
        "id": "s711joLsuK_8"
      },
      "execution_count": null,
      "outputs": []
    },
    {
      "cell_type": "code",
      "source": [
        "sns.boxplot(df['speed'])\n",
        "plt.show()"
      ],
      "metadata": {
        "id": "z93C1C2_uNbv"
      },
      "execution_count": null,
      "outputs": []
    },
    {
      "cell_type": "markdown",
      "source": [
        "##### What all outlier treatment techniques have you used and why did you use those techniques?"
      ],
      "metadata": {
        "id": "578E2V7j08f6"
      }
    },
    {
      "cell_type": "markdown",
      "source": [
        "I used 2 techniques to check outliers boxplot and percentile method because in percentile i can easily see the outliers from which points outliers started."
      ],
      "metadata": {
        "id": "uGZz5OrT1HH-"
      }
    },
    {
      "cell_type": "markdown",
      "source": [
        "### 3. Categorical Encoding"
      ],
      "metadata": {
        "id": "89xtkJwZ18nB"
      }
    },
    {
      "cell_type": "code",
      "source": [
        "# Encode your categorical columns\n",
        "df1 = pd.get_dummies(df , columns=['store_and_fwd_flag','pickup_time_of_day','dropoff_time_of_day'],prefix=['store','pickup','dropoff'])"
      ],
      "metadata": {
        "id": "21JmIYMG2hEo"
      },
      "execution_count": null,
      "outputs": []
    },
    {
      "cell_type": "markdown",
      "source": [
        "#### What all categorical encoding techniques have you used & why did you use those techniques?"
      ],
      "metadata": {
        "id": "67NQN5KX2AMe"
      }
    },
    {
      "cell_type": "markdown",
      "source": [
        "I have created dummies of categorial columns 'store_and_fwd_flag','pickup_time_of_day','dropoff_time_of_day'."
      ],
      "metadata": {
        "id": "UDaue5h32n_G"
      }
    },
    {
      "cell_type": "markdown",
      "source": [
        "### 4. Feature Manipulation & Selection"
      ],
      "metadata": {
        "id": "-oLEiFgy-5Pf"
      }
    },
    {
      "cell_type": "markdown",
      "source": [
        "#### 1. Feature Manipulation"
      ],
      "metadata": {
        "id": "C74aWNz2AliB"
      }
    },
    {
      "cell_type": "code",
      "source": [
        "# Manipulate Features to minimize feature correlation and create new features\n",
        "#Let's see correlation graph\n",
        "plt.figure(figsize=(20,12))\n",
        "correlation = df1.corr()\n",
        "sns.heatmap(abs(correlation), annot=True, cmap='coolwarm')\n",
        "plt.show()"
      ],
      "metadata": {
        "id": "h1qC4yhBApWC"
      },
      "execution_count": null,
      "outputs": []
    },
    {
      "cell_type": "code",
      "source": [
        "df_corr = df1.copy()\n",
        "df_corr.columns"
      ],
      "metadata": {
        "id": "cCN3_nqyCfCv"
      },
      "execution_count": null,
      "outputs": []
    },
    {
      "cell_type": "markdown",
      "source": [
        "#### 2. Feature Selection"
      ],
      "metadata": {
        "id": "2DejudWSA-a0"
      }
    },
    {
      "cell_type": "code",
      "source": [
        "# Select your features wisely to avoid overfitting\n",
        "#Lets drop some feature which are having high correlation (more than 0.4)\n",
        "df_corr.drop(['dropoff_Afternoon','dropoff_Evening', 'dropoff_Late night', 'dropoff_Morning','store_Y','store_N','dropoff_day_no',\n",
        "              'pickup_Evening','pickup_Morning','dropoff_month','dropoff_hrs', 'id'],axis=1,inplace=True)"
      ],
      "metadata": {
        "id": "YLhe8UmaBCEE"
      },
      "execution_count": null,
      "outputs": []
    },
    {
      "cell_type": "code",
      "source": [
        "df_corr.columns"
      ],
      "metadata": {
        "id": "4YDRCeSXCqUo"
      },
      "execution_count": null,
      "outputs": []
    },
    {
      "cell_type": "code",
      "source": [
        "#Lets check correlation graph again after removing high correlation\n",
        "plt.figure(figsize=(20,12))\n",
        "correlation = df_corr.corr()\n",
        "sns.heatmap(abs(correlation), annot=True, cmap='coolwarm')\n",
        "plt.show()"
      ],
      "metadata": {
        "id": "fY8UPp1UCu0D"
      },
      "execution_count": null,
      "outputs": []
    },
    {
      "cell_type": "markdown",
      "source": [
        "##### What all feature selection methods have you used  and why?"
      ],
      "metadata": {
        "id": "pEMng2IbBLp7"
      }
    },
    {
      "cell_type": "markdown",
      "source": [
        "I used heatmap for all feature selection to check the correlation."
      ],
      "metadata": {
        "id": "rb2Lh6Z8BgGs"
      }
    },
    {
      "cell_type": "markdown",
      "source": [
        "##### Which all features you found important and why?"
      ],
      "metadata": {
        "id": "rAdphbQ9Bhjc"
      }
    },
    {
      "cell_type": "markdown",
      "source": [
        "I found 'vendor_id', 'pickup_datetime', 'dropoff_datetime', 'passenger_count',\n",
        "       'pickup_longitude', 'pickup_latitude', 'dropoff_longitude',\n",
        "       'dropoff_latitude', 'trip_duration', 'pickup_day', 'dropoff_day',\n",
        "       'pickup_day_no', 'pickup_hrs', 'pickup_month', 'pickup_Year',\n",
        "       'dropoff_Year', 'Pick_Up_time', 'Drop_off_time', 'pickup_date',\n",
        "       'dropoff_date', 'distance', 'speed', 'pickup_Afternoon',\n",
        "       'pickup_Late night' these features are important because they all have correlation less than 0.4 ."
      ],
      "metadata": {
        "id": "fGgaEstsBnaf"
      }
    },
    {
      "cell_type": "markdown",
      "source": [
        "### 5. Data Transformation"
      ],
      "metadata": {
        "id": "TNVZ9zx19K6k"
      }
    },
    {
      "cell_type": "code",
      "source": [
        "#Spliting dependent and independent variables\n",
        "independent_variables=['pickup_longitude', 'pickup_latitude','dropoff_longitude', 'dropoff_latitude','distance', 'pickup_hrs']\n",
        "\n",
        "dependent_variables = 'trip_duration'"
      ],
      "metadata": {
        "id": "57SsYXS7En32"
      },
      "execution_count": null,
      "outputs": []
    },
    {
      "cell_type": "code",
      "source": [
        "X = df_corr[independent_variables]\n",
        "\n",
        "y = df_corr[dependent_variables]"
      ],
      "metadata": {
        "id": "FqX3cC9iEsjX"
      },
      "execution_count": null,
      "outputs": []
    },
    {
      "cell_type": "code",
      "source": [
        "print(X.shape)\n",
        "print(y.shape)"
      ],
      "metadata": {
        "id": "52yOxw5zEzvi"
      },
      "execution_count": null,
      "outputs": []
    },
    {
      "cell_type": "markdown",
      "source": [
        "#### Do you think that your data needs to be transformed? If yes, which transformation have you used. Explain Why?"
      ],
      "metadata": {
        "id": "nqoHp30x9hH9"
      }
    },
    {
      "cell_type": "code",
      "source": [
        "# Transform Your data\n",
        "scaler = StandardScaler()\n",
        "X = scaler.fit_transform(X)"
      ],
      "metadata": {
        "id": "I6quWQ1T9rtH"
      },
      "execution_count": null,
      "outputs": []
    },
    {
      "cell_type": "markdown",
      "source": [
        "### 6. Data Scaling"
      ],
      "metadata": {
        "id": "rMDnDkt2B6du"
      }
    },
    {
      "cell_type": "code",
      "source": [
        "# Scaling your data\n",
        "X[0:2]"
      ],
      "metadata": {
        "id": "dL9LWpySC6x_"
      },
      "execution_count": null,
      "outputs": []
    },
    {
      "cell_type": "markdown",
      "source": [
        "##### Which method have you used to scale you data and why?"
      ],
      "metadata": {
        "id": "yiiVWRdJDDil"
      }
    },
    {
      "cell_type": "markdown",
      "source": [
        "### 7. Dimesionality Reduction"
      ],
      "metadata": {
        "id": "1UUpS68QDMuG"
      }
    },
    {
      "cell_type": "markdown",
      "source": [
        "##### Do you think that dimensionality reduction is needed? Explain Why?"
      ],
      "metadata": {
        "id": "kexQrXU-DjzY"
      }
    },
    {
      "cell_type": "markdown",
      "source": [
        "Yes, dimensionality reduction is needed to find the best parameters."
      ],
      "metadata": {
        "id": "GGRlBsSGDtTQ"
      }
    },
    {
      "cell_type": "markdown",
      "source": [
        "##### Which dimensionality reduction technique have you used and why? (If dimensionality reduction done on dataset.)"
      ],
      "metadata": {
        "id": "T5CmagL3EC8N"
      }
    },
    {
      "cell_type": "markdown",
      "source": [
        "I used RandomizedSearchCV for dimensionality reduction because gridsearchcv take too much time."
      ],
      "metadata": {
        "id": "ZKr75IDuEM7t"
      }
    },
    {
      "cell_type": "markdown",
      "source": [
        "### 8. Data Splitting"
      ],
      "metadata": {
        "id": "BhH2vgX9EjGr"
      }
    },
    {
      "cell_type": "code",
      "source": [
        "# Split your data to train and test. Choose Splitting ratio wisely.\n",
        "\n",
        "# Splitting the dataset into the Training set and Test set\n",
        "X_train, X_test, Y_train, Y_test = train_test_split(X, y, test_size=0.3, random_state=0)"
      ],
      "metadata": {
        "id": "0CTyd2UwEyNM"
      },
      "execution_count": null,
      "outputs": []
    },
    {
      "cell_type": "code",
      "source": [
        "print('Train Data Shape')\n",
        "print(X_train.shape)\n",
        "print(Y_train.shape)\n",
        "print('\\n')\n",
        "print('Test Data Shape')\n",
        "print(X_test.shape)\n",
        "print(Y_test.shape)"
      ],
      "metadata": {
        "id": "gxCEbsT-Iqs8"
      },
      "execution_count": null,
      "outputs": []
    },
    {
      "cell_type": "markdown",
      "source": [
        "##### What data splitting ratio have you used and why? "
      ],
      "metadata": {
        "id": "qjKvONjwE8ra"
      }
    },
    {
      "cell_type": "markdown",
      "source": [
        "I used 70% data for training and 30% of data for test because it gives the best results."
      ],
      "metadata": {
        "id": "Y2lJ8cobFDb_"
      }
    },
    {
      "cell_type": "markdown",
      "source": [
        "## ***6. ML Model Implementation***"
      ],
      "metadata": {
        "id": "VfCC591jGiD4"
      }
    },
    {
      "cell_type": "markdown",
      "source": [
        "We will start by building simple prediction models and work our way upto more complex models. but first lets start by defining some important function's.\n",
        "\n",
        "\n"
      ],
      "metadata": {
        "id": "LaUk8avvL589"
      }
    },
    {
      "cell_type": "markdown",
      "source": [
        "### Defining function to fit model"
      ],
      "metadata": {
        "id": "RimaAEbgJHYC"
      }
    },
    {
      "cell_type": "code",
      "source": [
        "#Defining function to fit model\n",
        "\n",
        "def fit_mod(model, X_train, X_test, Y_train, Y_test):\n",
        "\n",
        "  '''Takes regressor model and train test splits as input and prints the\n",
        "  evaluation matrices with the plot and returns the model'''\n",
        "  global Y_pred\n",
        "  # Fitting the model\n",
        "  model.fit(X_train,Y_train)\n",
        "  Y_pred = model.predict(X_test)\n",
        "  a,p = Y_test,Y_pred \n",
        "\n",
        "  return Y_pred"
      ],
      "metadata": {
        "id": "KQVexhDWLyZx"
      },
      "execution_count": null,
      "outputs": []
    },
    {
      "cell_type": "markdown",
      "source": [
        "### Defining function to get Evaluation matrix"
      ],
      "metadata": {
        "id": "dsoOKizhJOJY"
      }
    },
    {
      "cell_type": "code",
      "source": [
        "#Defining to get Evaluation matrix\n",
        "\n",
        "def plot_model(model, X_train, X_test, y_train, y_test):\n",
        "\n",
        "# Plotting actual and predicted values and the feature importances:\n",
        "  plt.figure(figsize=(18,3))\n",
        "  plt.subplot(1,1,1)\n",
        "  plt.plot((Y_pred)[:100])\n",
        "  plt.plot((np.array(y_test)[:100]))\n",
        "  plt.legend([\"Predicted\",\"Actual\"])\n",
        "  plt.title('Actual and Predicted trip duration')\n",
        "\n",
        "  return model"
      ],
      "metadata": {
        "id": "9M5LqvWDMfSx"
      },
      "execution_count": null,
      "outputs": []
    },
    {
      "cell_type": "markdown",
      "source": [
        "### Defining function to get Get_model"
      ],
      "metadata": {
        "id": "gE8dlboTJaIE"
      }
    },
    {
      "cell_type": "code",
      "source": [
        "'''Storing Values in a list'''\n",
        "#TEST \n",
        "test_mse= []\n",
        "test_r2=[]\n",
        "test_adjr2=[]\n",
        "test_rmse=[]\n",
        "#TRAIN\n",
        "train_mse=[]\n",
        "train_r2=[]\n",
        "train_adjr2=[]\n",
        "train_rmse=[]\n",
        "\n",
        "def Get_model(model,X_train,X_test,Y_train,Y_test):\n",
        "      \n",
        "    fit_mod(model, X_train, X_test, Y_train, Y_test)\n",
        "    ''' Storing predictions for Evaluation '''\n",
        "    Y_pred_train = model.predict(X_train)\n",
        "    Y_pred_test = model.predict(X_test)\n",
        "\n",
        "    '''Computing MSE ,R2 and Adjusted R2 score for train data''' \n",
        "    # Mean Square Error \n",
        "    train_mse_  = mean_squared_error(Y_train, Y_pred_train)\n",
        "    print(\"Train MSE :\" , train_mse_)\n",
        "\n",
        "    #Root mean square error \n",
        "    train_rmse_ = np.sqrt(train_mse_)\n",
        "    print(\"Train RMSE :\" ,train_rmse_)\n",
        "\n",
        "    #R2\n",
        "    train_r2_ = r2_score(Y_train, Y_pred_train)\n",
        "    print(\"Train R2 :\" ,train_r2_)\n",
        "\n",
        "    # Adjusted R2\n",
        "    train_ar2_= 1-(1-r2_score((Y_train), (Y_pred_train)))*((X_train.shape[0]-1)/(X_train.shape[0]-X_train.shape[1]-1))\n",
        "    print(\"Train Adjusted R2 : \",train_ar2_)\n",
        "\n",
        "    '''Computing MSE ,R2 and Adjusted R2 score for test data''' \n",
        "    # Mean Square Error \n",
        "    test_mse_  = mean_squared_error(Y_test, Y_pred_test)\n",
        "    print(\"Test MSE :\" , test_mse_)\n",
        "    #Root mean square error \n",
        "    test_rmse_ = np.sqrt(test_mse_)\n",
        "    print(\"Test RMSE :\" ,test_rmse_)\n",
        "\n",
        "    #R2\n",
        "    test_r2_ = r2_score(Y_test, Y_pred_test)\n",
        "    print(\"Test R2 :\" ,test_r2_)\n",
        "\n",
        "    # Adjusted R2\n",
        "    test_ar2_= 1-(1-r2_score((Y_test), (Y_pred_test)))*((X_test.shape[0]-1)/(X_test.shape[0]-X_test.shape[1]-1))\n",
        "    print(\"Test Adjusted R2 : \", test_ar2_)\n",
        "\n",
        "    '''Storing Values in a list '''\n",
        "    model=model\n",
        "    #TEST \n",
        "    test_mse.append(test_mse_)\n",
        "    test_r2.append(test_r2_)\n",
        "    test_adjr2.append(test_ar2_)\n",
        "    test_rmse.append(test_rmse_)\n",
        "    #TRAIN\n",
        "    train_mse.append(train_mse_)\n",
        "    train_r2.append(train_r2_)\n",
        "    train_adjr2.append(train_ar2_)\n",
        "    train_rmse.append(train_rmse_)\n",
        "\n",
        "    try:\n",
        "      plot_model(model, X_train, X_test, Y_train, Y_test)\n",
        "    except Exception:\n",
        "      pass    \n",
        "\n",
        "    return     "
      ],
      "metadata": {
        "id": "RLNvRnoLMwAa"
      },
      "execution_count": null,
      "outputs": []
    },
    {
      "cell_type": "markdown",
      "source": [
        "### ML Model - Linear regression"
      ],
      "metadata": {
        "id": "OB4l2ZhMeS1U"
      }
    },
    {
      "cell_type": "code",
      "source": [
        "# Defining LinearRegression and fitting the function \n",
        "lr = LinearRegression()\n",
        "Get_model(lr, X_train, X_test, Y_train, Y_test)"
      ],
      "metadata": {
        "id": "7ebyywQieS1U"
      },
      "execution_count": null,
      "outputs": []
    },
    {
      "cell_type": "markdown",
      "source": [
        "### ML Model - Decision Tree"
      ],
      "metadata": {
        "id": "dJ2tPlVmpsJ0"
      }
    },
    {
      "cell_type": "code",
      "source": [
        "# Minimum number of samples required to split a node:\n",
        "min_samples_split = [10,20,30]\n",
        "\n",
        "# Minimum number of samples required at each leaf node:\n",
        "min_samples_leaf = [8,16,22]\n",
        "\n",
        "# Maximum depth of trees:\n",
        "max_depth = [6,8,10,15]"
      ],
      "metadata": {
        "id": "EWSXoQQzOqct"
      },
      "execution_count": null,
      "outputs": []
    },
    {
      "cell_type": "markdown",
      "source": [
        "Commenting this because it take to much time to run."
      ],
      "metadata": {
        "id": "n74FHior0Kxt"
      }
    },
    {
      "cell_type": "code",
      "source": [
        "'''\n",
        "#Defining Model \n",
        "regressor = DecisionTreeRegressor(random_state=1)\n",
        "\n",
        "# Hyperparameter Grid\n",
        "grid = {'max_depth' : max_depth,\n",
        "        'min_samples_split' : min_samples_split,\n",
        "        'min_samples_leaf' : min_samples_leaf}\n",
        "\n",
        "# GridSearch to find the best parameters\n",
        "dtr = RandomizedSearchCV(regressor, param_distributions = grid, scoring = 'neg_mean_squared_error', cv=5,random_state=6,verbose=True,n_jobs=-1)\n",
        "\n",
        "#Fitting the model \n",
        "Get_model(dtr, X_train, X_test, Y_train, Y_test)\n",
        "'''"
      ],
      "metadata": {
        "id": "2Fv5vDYZPE7F"
      },
      "execution_count": null,
      "outputs": []
    },
    {
      "cell_type": "code",
      "source": [
        "'''\n",
        "print('The best fit alpha value is found out to be :' ,dtr.best_params_)\n",
        "print('The R2 score using the same alpha is :', dtr.best_score_)\n",
        "'''"
      ],
      "metadata": {
        "id": "LS_is_5-PP-M"
      },
      "execution_count": null,
      "outputs": []
    },
    {
      "cell_type": "markdown",
      "source": [
        "### ML Model - Random Forest"
      ],
      "metadata": {
        "id": "Fze-IPXLpx6K"
      }
    },
    {
      "cell_type": "code",
      "source": [
        "# Number of trees in random forest\n",
        "n_estimators = [50,100,150]\n",
        "\n",
        "# Number of features to consider at every split\n",
        "max_features = ['auto', 'sqrt']\n",
        "\n",
        "# Maximum number of levels in tree\n",
        "max_depth = [10,15]\n",
        "\n",
        "# Minimum number of samples required to split a node\n",
        "min_samples_split = [5, 10,15]\n",
        "\n",
        "# Minimum number of samples required at each leaf node\n",
        "min_samples_leaf = [5, 10,15]"
      ],
      "metadata": {
        "id": "FFrSXAtrpx6M"
      },
      "execution_count": null,
      "outputs": []
    },
    {
      "cell_type": "markdown",
      "source": [
        "Commenting this because it take to much time to run."
      ],
      "metadata": {
        "id": "XA5iIo3AxlFK"
      }
    },
    {
      "cell_type": "code",
      "source": [
        "#Fitting model\n",
        "''' \n",
        "regressor = RandomForestRegressor(random_state=2,oob_score=False,verbose=True)\n",
        "\n",
        "\n",
        "# Hyperparameter Grid\n",
        "grid = {'n_estimators' : n_estimators,\n",
        "        'max_depth' : max_depth,\n",
        "        'min_samples_split' : min_samples_split,\n",
        "        'min_samples_leaf' : min_samples_leaf}\n",
        "\n",
        "# GridSearch to find the best parameters\n",
        "rf = RandomizedSearchCV(regressor, param_distributions = grid, scoring = 'neg_mean_squared_error', cv=2,random_state=6,verbose=True,n_jobs=-1)\n",
        "\n",
        "Get_model(rf, X_train, X_test, Y_train, Y_test)\n",
        "'''"
      ],
      "metadata": {
        "id": "773HEcBeQGYZ"
      },
      "execution_count": null,
      "outputs": []
    },
    {
      "cell_type": "code",
      "source": [
        "'''\n",
        "print('The best fit alpha value is found out to be :' ,rf.best_params_)\n",
        "print('The R2 score using the same alpha is :', rf.best_score_)\n",
        "'''"
      ],
      "metadata": {
        "id": "WaF5-FVIQLRb"
      },
      "execution_count": null,
      "outputs": []
    },
    {
      "cell_type": "markdown",
      "source": [
        "### ML Model - XG boost"
      ],
      "metadata": {
        "id": "9XdwVFxmQim5"
      }
    },
    {
      "cell_type": "code",
      "source": [
        "# Learning rate:\n",
        "eta = [0.05,0.08,0.1]\n",
        "\n",
        "# HYperparameter Grid\n",
        "grid = {'learning_rate': [0.1, 0.2, 0.3],\n",
        "        'max_depth': [5, 8, 10],\n",
        "        'min_samples_' : [2,4,6],\n",
        "        'n_estimators' : [100,200,300]}"
      ],
      "metadata": {
        "id": "tAAW2PXXRH-U"
      },
      "execution_count": null,
      "outputs": []
    },
    {
      "cell_type": "code",
      "source": [
        "#Regressor\n",
        "'''\n",
        "regressor = XGBRegressor(silent=True,random_state=0, objective='reg:squarederror')\n",
        "\n",
        "# GridSearch to find the best parameters\n",
        "xgb = RandomizedSearchCV(regressor, param_distributions = grid, scoring = 'neg_mean_squared_error', cv=2,random_state=6,verbose=True,n_jobs=-1)\n",
        "\n",
        "#Fitting the model \n",
        "Get_model(xgb, X_train, X_test, Y_train, Y_test)\n",
        "'''"
      ],
      "metadata": {
        "id": "x6ig3AsXRPHe"
      },
      "execution_count": null,
      "outputs": []
    },
    {
      "cell_type": "code",
      "source": [
        "'''\n",
        "print('The best fit alpha value is found out to be :' ,xgb.best_params_)\n",
        "print('The R2 score using the same alpha is :', xgb.best_score_)\n",
        "'''"
      ],
      "metadata": {
        "id": "elwy1NHKRStD"
      },
      "execution_count": null,
      "outputs": []
    },
    {
      "cell_type": "markdown",
      "source": [
        "### Model Evalutaion"
      ],
      "metadata": {
        "id": "wVlygryZRlVT"
      }
    },
    {
      "cell_type": "code",
      "source": [
        "models= ['Linear Regression','DecisionTree Regressor','Ramdom Forest','XGBoost Regressor']\n",
        "with pd.option_context('display.precision', 10):\n",
        " model_comparison = pd.DataFrame({'Model Name': models,\n",
        "                          'Train_MSE': train_mse,'Test_MSE': test_mse,\n",
        "                          'Train_R^2': train_r2, 'Test_R^2': test_r2,\n",
        "                          'Train_Adjusted_R^2': train_adjr2, 'Test_Adjusted_R^2': test_adjr2,\n",
        "                          'Test Rsme': test_rmse,'Train Rsme': train_rmse})\n",
        "model_comparison"
      ],
      "metadata": {
        "id": "CWlIY7MMRwls"
      },
      "execution_count": null,
      "outputs": []
    },
    {
      "cell_type": "code",
      "source": [
        "# Writing the dataframe to a csv to ensure no data loss in working\n",
        "model_comparison.to_csv('/content/drive/MyDrive/Capstone Project -  NYC Taxi Trip Time Prediction/model.csv')"
      ],
      "metadata": {
        "id": "56DGP7vW8Mik"
      },
      "execution_count": null,
      "outputs": []
    },
    {
      "cell_type": "code",
      "source": [
        "# Reading the dataframe from the csv file again to import the scraped data from the already prepared csv file\n",
        "model_comparison = pd.read_csv('/content/drive/MyDrive/Capstone Project -  NYC Taxi Trip Time Prediction/model.csv')"
      ],
      "metadata": {
        "id": "05lCA009IM1w"
      },
      "execution_count": null,
      "outputs": []
    },
    {
      "cell_type": "code",
      "source": [
        "model_comparison.drop(['Unnamed: 0'],axis=1,inplace=True)\n",
        "model_comparison"
      ],
      "metadata": {
        "id": "NriwZgRlIb2d"
      },
      "execution_count": null,
      "outputs": []
    },
    {
      "cell_type": "markdown",
      "source": [
        "### 1. Which Evaluation metrics did you consider for a positive business impact and why?"
      ],
      "metadata": {
        "id": "h_CCil-SKHpo"
      }
    },
    {
      "cell_type": "markdown",
      "source": [
        " We can use XGBoost Regressor evaluation metrices for a positive business impact because in this evaluation metrices we get best performance."
      ],
      "metadata": {
        "id": "jHVz9hHDKFms"
      }
    },
    {
      "cell_type": "markdown",
      "source": [
        "### 2. Which ML model did you choose from the above created models as your final prediction model and why?"
      ],
      "metadata": {
        "id": "cBFFvTBNJzUa"
      }
    },
    {
      "cell_type": "markdown",
      "source": [
        "XGBoost Regressor\tmodel is final prediction model from above models because in this model i get best r2 score. "
      ],
      "metadata": {
        "id": "6ksF5Q1LKTVm"
      }
    },
    {
      "cell_type": "markdown",
      "source": [
        "# **Conclusion**"
      ],
      "metadata": {
        "id": "gCX9965dhzqZ"
      }
    },
    {
      "cell_type": "markdown",
      "source": [
        "\n",
        "\n",
        "\n",
        "\n",
        "\n",
        "*   We can see that MSE and R2 and Adjusted R2 which are the metrics used to evaluate the performance of regression model of Linear Regression, Decision Tree, Random Forest and XGBoost Regressor.\n",
        "*   The Linear models don't show good performance on our training and testing environment.\n",
        "\n",
        "\n",
        "*   There is a significant improvement in the RMSE score for the tuned XGBoost regressor over the Random Forest regressor when trained on the feature selection group.\n",
        "*   The variance score of the XGB Regression more efficient than other Regression Models.\n",
        "\n",
        "\n",
        "*   XGBoost Regression model proved to be much more efficient in predicting the output. But it takes much more time to train it over the large dataset with more complexity as compared to the other Regresson models.\n",
        "\n",
        "\n",
        "\n",
        "\n",
        "\n",
        "\n",
        "*   From above table we can conclude that XGBoost Regression (80%) is the best models as compare to the other models to predict the trip duration for a particular taxi.\n",
        "\n",
        "\n",
        "\n",
        "\n"
      ],
      "metadata": {
        "id": "Fjb1IsQkh3yE"
      }
    },
    {
      "cell_type": "markdown",
      "source": [
        "### ***Hurrah! You have successfully completed your Machine Learning Capstone Project !!!***"
      ],
      "metadata": {
        "id": "gIfDvo9L0UH2"
      }
    }
  ]
}